{
 "cells": [
  {
   "cell_type": "markdown",
   "metadata": {},
   "source": [
    "# Getting started"
   ]
  },
  {
   "cell_type": "markdown",
   "metadata": {},
   "source": [
    "This tutorial serves as a quick introduction on how to evaluate your generative model using docking benchmark. You will learn how to:\n",
    "\n",
    "1. Evaluate generated molecules using docking\n",
    "2. Store the results\n",
    "3. Calculate some basic metrics based on achieved results"
   ]
  },
  {
   "cell_type": "markdown",
   "metadata": {},
   "source": [
    "## Before you begin\n",
    "\n",
    "1. **Make sure you have your environment prepared**. The easiest way is to create a new conda environment and adapt it using installation script located at `docking_benchmark/install_conda_env.sh`.\n",
    "\n",
    "2. To use proteins and datasets provided with benchmark, you have to **download additional data**. Download [this zip](https://drive.google.com/open?id=1HJNgHBWE2eZc2gsHQhqay-V17GaviIxQ), unpack it and set the `DOCKING_BENCHMARK_DATA` environment variable to unpacked `data` directory -- e.g. in Linux, use `export DOCKING_BENCHMARK_DATA=/path/to/data` command.\n",
    "\n",
    "After you complete the steps above, you are ready to evaluate your model."
   ]
  },
  {
   "cell_type": "markdown",
   "metadata": {},
   "source": [
    "## Model evaluation"
   ]
  },
  {
   "cell_type": "markdown",
   "metadata": {},
   "source": [
    "Let's assume your model is wrapped in Python class with `generate_molecule` method that generates molecule in SMILES format."
   ]
  },
  {
   "cell_type": "code",
   "execution_count": 1,
   "metadata": {},
   "outputs": [],
   "source": [
    "import random\n",
    "\n",
    "class RandomMoleculeGenerator:\n",
    "    def __init__(self):\n",
    "        self.smiles = [\n",
    "            'C1CCCC12CC(=O)N(C(=O)C2)CCCC[N@@H+](CCC)[C@H](C3)COc(c34)cccc4OC',\n",
    "            'C1CCCC12CC(=O)N(C(=O)C2)OCCC[N@@H+](CCC)[C@@H](C3)COc(c34)cccc4OC',\n",
    "            'c1cc(F)ccc1C(=O)Nc(cc2)cc(c23)n(nc3)[C@H]4CC[N@H+](C)CC4',\n",
    "            'c1cc(F)ccc1C(=O)NCCCC[N@@H+](CCC)[C@H](C2)COc(c23)cccc3OC',\n",
    "            'c1cc(I)ccc1CCC[N@H+](CC2)CC[C@@H]2COc(c(c3c45)cccn3)nc4c(F)ccc5',\n",
    "        ]\n",
    "    \n",
    "    def generate_molecule(self):\n",
    "        return random.sample(self.smiles, 1)[0]"
   ]
  },
  {
   "cell_type": "markdown",
   "metadata": {},
   "source": [
    "The class above generates a molecule by choosing random SMILES from `smiles` list. We will use it as a trivial generative model."
   ]
  },
  {
   "cell_type": "code",
   "execution_count": 2,
   "metadata": {},
   "outputs": [],
   "source": [
    "model = RandomMoleculeGenerator()"
   ]
  },
  {
   "cell_type": "markdown",
   "metadata": {},
   "source": [
    "With our model in place, we can evaluate the generated molecules. First we need to pick a protein that molecules are going to be docked to. Benchmark provides four proteins out of the box -- 5HT1B, 5HT2B, ACM2 and CYP2D6. We will move on with 5HT1B. Use `get_proteins` function from `docking_benchmark.data.proteins` package to access provided proteins."
   ]
  },
  {
   "cell_type": "code",
   "execution_count": 3,
   "metadata": {},
   "outputs": [
    {
     "name": "stderr",
     "output_type": "stream",
     "text": [
      "RDKit WARNING: [11:47:36] Enabling RDKit 2019.09.1 jupyter extensions\n"
     ]
    }
   ],
   "source": [
    "from docking_benchmark.data.proteins import get_proteins\n",
    "\n",
    "protein = get_proteins()['5ht1b']"
   ]
  },
  {
   "cell_type": "markdown",
   "metadata": {},
   "source": [
    "Protein is represented by a simple `Protein` class. To learn more about it, including how to access fine-tuning datasets, see [Proteins and datasets notebook](proteins-and-datasets.ipynb). The most important thing for now, is that `Protein` class has a `dock_smiles_to_protein` method. Let's see how it works, by docking a single molecule."
   ]
  },
  {
   "cell_type": "code",
   "execution_count": 4,
   "metadata": {},
   "outputs": [
    {
     "data": {
      "text/plain": [
       "{'intramolecular_energy': -0.9224400000000001,\n",
       " 'docking_score': -8.98301,\n",
       " 'gauss(o=0__w=0.8__c=8)': 171.069404,\n",
       " 'repulsion(o=0__c=8)': 1.972782,\n",
       " 'hydrophobic(g=0__b=2.5__c=8)': 118.68772999999999,\n",
       " 'non_dir_h_bond(g=-0.6__b=0__c=8)': 0.543306,\n",
       " 'num_tors_div': 0.0}"
      ]
     },
     "execution_count": 4,
     "metadata": {},
     "output_type": "execute_result"
    }
   ],
   "source": [
    "smiles = model.generate_molecule()\n",
    "result = protein.dock_smiles_to_protein(smiles)\n",
    "result"
   ]
  },
  {
   "cell_type": "markdown",
   "metadata": {},
   "source": [
    "The method returns a dictionary with docking results from SMINA. `docking_score` is the most important score, yet you can find also particular components of docking score."
   ]
  },
  {
   "cell_type": "markdown",
   "metadata": {},
   "source": [
    "## Storing results"
   ]
  },
  {
   "cell_type": "markdown",
   "metadata": {},
   "source": [
    "For storing docking results you can use `OptimizedMolecules` and `OptimizedMolecules.Builder` classes. `OptimizedMolecules` is a simple wrapper around pandas' `DataFrame`, providing methods that simplify the creation of results' `DataFrame` and metrics calculation. To create `OptimizedMolecules` object you should use `OptimizedMolecules.Builder` class. To learn more about them, see [Optimized Molecules notebook](optimized-molecules.ipynb)."
   ]
  },
  {
   "cell_type": "code",
   "execution_count": 5,
   "metadata": {},
   "outputs": [],
   "source": [
    "from docking_benchmark.data.results import OptimizedMolecules\n",
    "\n",
    "results_builder = OptimizedMolecules.Builder()\n",
    "\n",
    "for _ in range(5):\n",
    "    smiles = model.generate_molecule()\n",
    "    docking_result = protein.dock_smiles_to_protein(smiles)\n",
    "    results_builder.append(smiles, **docking_result)"
   ]
  },
  {
   "cell_type": "markdown",
   "metadata": {},
   "source": [
    "The code above appends calculated docking results to the builder. All results returned by SMINA are stored in the builder by using dictionary unpacking (`**docking_result`). After the generation process is done, use `build()` method to create `OptimizedMolecules` object."
   ]
  },
  {
   "cell_type": "code",
   "execution_count": 6,
   "metadata": {},
   "outputs": [],
   "source": [
    "results = results_builder.build()"
   ]
  },
  {
   "cell_type": "markdown",
   "metadata": {},
   "source": [
    "## Interpreting the results"
   ]
  },
  {
   "cell_type": "markdown",
   "metadata": {},
   "source": [
    "Raw results may be not informative enough to assess the performance. That's why `OptimizedMolecules` provides methods for results manipulation. For example, you may want to calculate internal diversity of generated molecules"
   ]
  },
  {
   "cell_type": "code",
   "execution_count": 7,
   "metadata": {},
   "outputs": [
    {
     "data": {
      "text/plain": [
       "0.8517809216212529"
      ]
     },
     "execution_count": 7,
     "metadata": {},
     "output_type": "execute_result"
    }
   ],
   "source": [
    "results.internal_diversity()"
   ]
  },
  {
   "cell_type": "markdown",
   "metadata": {},
   "source": [
    "or retrieve three molecules with best docking score"
   ]
  },
  {
   "cell_type": "code",
   "execution_count": 8,
   "metadata": {},
   "outputs": [
    {
     "data": {
      "text/html": [
       "<div>\n",
       "<style scoped>\n",
       "    .dataframe tbody tr th:only-of-type {\n",
       "        vertical-align: middle;\n",
       "    }\n",
       "\n",
       "    .dataframe tbody tr th {\n",
       "        vertical-align: top;\n",
       "    }\n",
       "\n",
       "    .dataframe thead th {\n",
       "        text-align: right;\n",
       "    }\n",
       "</style>\n",
       "<table border=\"1\" class=\"dataframe\">\n",
       "  <thead>\n",
       "    <tr style=\"text-align: right;\">\n",
       "      <th></th>\n",
       "      <th>intramolecular_energy</th>\n",
       "      <th>docking_score</th>\n",
       "      <th>gauss(o=0__w=0.8__c=8)</th>\n",
       "      <th>repulsion(o=0__c=8)</th>\n",
       "      <th>hydrophobic(g=0__b=2.5__c=8)</th>\n",
       "      <th>non_dir_h_bond(g=-0.6__b=0__c=8)</th>\n",
       "      <th>num_tors_div</th>\n",
       "    </tr>\n",
       "  </thead>\n",
       "  <tbody>\n",
       "    <tr>\n",
       "      <th>c1cc(I)ccc1CCC[N@H+](CC2)CC[C@@H]2COc(c(c3c45)cccn3)nc4c(F)ccc5</th>\n",
       "      <td>-1.783020</td>\n",
       "      <td>-11.501250</td>\n",
       "      <td>180.496812</td>\n",
       "      <td>1.989348</td>\n",
       "      <td>182.214124</td>\n",
       "      <td>0.338416</td>\n",
       "      <td>0.0</td>\n",
       "    </tr>\n",
       "    <tr>\n",
       "      <th>c1cc(F)ccc1C(=O)NCCCC[N@@H+](CCC)[C@H](C2)COc(c23)cccc3OC</th>\n",
       "      <td>-1.104402</td>\n",
       "      <td>-9.545828</td>\n",
       "      <td>169.344056</td>\n",
       "      <td>1.303360</td>\n",
       "      <td>129.408504</td>\n",
       "      <td>0.579836</td>\n",
       "      <td>0.0</td>\n",
       "    </tr>\n",
       "    <tr>\n",
       "      <th>c1cc(F)ccc1C(=O)Nc(cc2)cc(c23)n(nc3)[C@H]4CC[N@H+](C)CC4</th>\n",
       "      <td>-0.647638</td>\n",
       "      <td>-8.385558</td>\n",
       "      <td>135.181176</td>\n",
       "      <td>1.283660</td>\n",
       "      <td>104.082174</td>\n",
       "      <td>0.315988</td>\n",
       "      <td>0.0</td>\n",
       "    </tr>\n",
       "  </tbody>\n",
       "</table>\n",
       "</div>"
      ],
      "text/plain": [
       "                                                    intramolecular_energy  \\\n",
       "c1cc(I)ccc1CCC[N@H+](CC2)CC[C@@H]2COc(c(c3c45)c...              -1.783020   \n",
       "c1cc(F)ccc1C(=O)NCCCC[N@@H+](CCC)[C@H](C2)COc(c...              -1.104402   \n",
       "c1cc(F)ccc1C(=O)Nc(cc2)cc(c23)n(nc3)[C@H]4CC[N@...              -0.647638   \n",
       "\n",
       "                                                    docking_score  \\\n",
       "c1cc(I)ccc1CCC[N@H+](CC2)CC[C@@H]2COc(c(c3c45)c...     -11.501250   \n",
       "c1cc(F)ccc1C(=O)NCCCC[N@@H+](CCC)[C@H](C2)COc(c...      -9.545828   \n",
       "c1cc(F)ccc1C(=O)Nc(cc2)cc(c23)n(nc3)[C@H]4CC[N@...      -8.385558   \n",
       "\n",
       "                                                    gauss(o=0__w=0.8__c=8)  \\\n",
       "c1cc(I)ccc1CCC[N@H+](CC2)CC[C@@H]2COc(c(c3c45)c...              180.496812   \n",
       "c1cc(F)ccc1C(=O)NCCCC[N@@H+](CCC)[C@H](C2)COc(c...              169.344056   \n",
       "c1cc(F)ccc1C(=O)Nc(cc2)cc(c23)n(nc3)[C@H]4CC[N@...              135.181176   \n",
       "\n",
       "                                                    repulsion(o=0__c=8)  \\\n",
       "c1cc(I)ccc1CCC[N@H+](CC2)CC[C@@H]2COc(c(c3c45)c...             1.989348   \n",
       "c1cc(F)ccc1C(=O)NCCCC[N@@H+](CCC)[C@H](C2)COc(c...             1.303360   \n",
       "c1cc(F)ccc1C(=O)Nc(cc2)cc(c23)n(nc3)[C@H]4CC[N@...             1.283660   \n",
       "\n",
       "                                                    hydrophobic(g=0__b=2.5__c=8)  \\\n",
       "c1cc(I)ccc1CCC[N@H+](CC2)CC[C@@H]2COc(c(c3c45)c...                    182.214124   \n",
       "c1cc(F)ccc1C(=O)NCCCC[N@@H+](CCC)[C@H](C2)COc(c...                    129.408504   \n",
       "c1cc(F)ccc1C(=O)Nc(cc2)cc(c23)n(nc3)[C@H]4CC[N@...                    104.082174   \n",
       "\n",
       "                                                    non_dir_h_bond(g=-0.6__b=0__c=8)  \\\n",
       "c1cc(I)ccc1CCC[N@H+](CC2)CC[C@@H]2COc(c(c3c45)c...                          0.338416   \n",
       "c1cc(F)ccc1C(=O)NCCCC[N@@H+](CCC)[C@H](C2)COc(c...                          0.579836   \n",
       "c1cc(F)ccc1C(=O)Nc(cc2)cc(c23)n(nc3)[C@H]4CC[N@...                          0.315988   \n",
       "\n",
       "                                                    num_tors_div  \n",
       "c1cc(I)ccc1CCC[N@H+](CC2)CC[C@@H]2COc(c(c3c45)c...           0.0  \n",
       "c1cc(F)ccc1C(=O)NCCCC[N@@H+](CCC)[C@H](C2)COc(c...           0.0  \n",
       "c1cc(F)ccc1C(=O)Nc(cc2)cc(c23)n(nc3)[C@H]4CC[N@...           0.0  "
      ]
     },
     "execution_count": 8,
     "metadata": {},
     "output_type": "execute_result"
    }
   ],
   "source": [
    "results.get_first_n(3, by_column='docking_score')"
   ]
  },
  {
   "cell_type": "markdown",
   "metadata": {},
   "source": [
    "You can also access the underlying `DataFrame`, by accessing `molecules` property of the class. This way you can calculate average score and components' values."
   ]
  },
  {
   "cell_type": "code",
   "execution_count": 9,
   "metadata": {},
   "outputs": [
    {
     "data": {
      "text/plain": [
       "intramolecular_energy                -1.178353\n",
       "docking_score                        -9.810879\n",
       "gauss(o=0__w=0.8__c=8)              161.674015\n",
       "repulsion(o=0__c=8)                   1.525456\n",
       "hydrophobic(g=0__b=2.5__c=8)        138.568267\n",
       "non_dir_h_bond(g=-0.6__b=0__c=8)      0.411413\n",
       "num_tors_div                          0.000000\n",
       "dtype: float64"
      ]
     },
     "execution_count": 9,
     "metadata": {},
     "output_type": "execute_result"
    }
   ],
   "source": [
    "results.molecules.mean()"
   ]
  },
  {
   "cell_type": "markdown",
   "metadata": {},
   "source": [
    "More methods for results interpretation are available. `OptimizedMolecules` can be also exported to .csv file. If you want you may also use binary serialization -- it may be useful if you want to load the results later into jupyter notebook for further analysis. [See Optimized Molecules notebook for more details](optimized-molecules.ipynb)."
   ]
  },
  {
   "cell_type": "markdown",
   "metadata": {},
   "source": [
    "## Summary"
   ]
  },
  {
   "cell_type": "markdown",
   "metadata": {},
   "source": [
    "Now you should know how to use the package to assess your model's performance. The basic framework is to generate molecules, dock them and use `OptimizedMolecules.Builder` to build `OptimizedMolecules` object. Next, you can either use builtin `OptimizedMolecules` methods or use underlying pandas' `DataFrame` to interpret the results."
   ]
  }
 ],
 "metadata": {
  "kernelspec": {
   "display_name": "Python 3",
   "language": "python",
   "name": "python3"
  },
  "language_info": {
   "codemirror_mode": {
    "name": "ipython",
    "version": 3
   },
   "file_extension": ".py",
   "mimetype": "text/x-python",
   "name": "python",
   "nbconvert_exporter": "python",
   "pygments_lexer": "ipython3",
   "version": "3.6.9"
  }
 },
 "nbformat": 4,
 "nbformat_minor": 2
}
